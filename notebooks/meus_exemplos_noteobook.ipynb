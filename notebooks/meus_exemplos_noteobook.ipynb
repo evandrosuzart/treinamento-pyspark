{
 "cells": [
  {
   "cell_type": "code",
   "execution_count": 3,
   "metadata": {
    "scrolled": true
   },
   "outputs": [
    {
     "name": "stdout",
     "output_type": "stream",
     "text": [
      "Defaulting to user installation because normal site-packages is not writeable\n",
      "Requirement already satisfied: pyspark in c:\\users\\evandro\\appdata\\roaming\\python\\python311\\site-packages (3.5.1)\n",
      "Requirement already satisfied: py4j==0.10.9.7 in c:\\users\\evandro\\appdata\\roaming\\python\\python311\\site-packages (from pyspark) (0.10.9.7)\n"
     ]
    }
   ],
   "source": [
    "!pip install pyspark"
   ]
  },
  {
   "cell_type": "code",
   "execution_count": 4,
   "metadata": {},
   "outputs": [
    {
     "data": {
      "text/plain": [
       "'E:\\\\ferramentas_desenvolvimento\\\\spark-3.5.1-bin-hadoop3\\\\spark-3.5.1-bin-hadoop3'"
      ]
     },
     "execution_count": 4,
     "metadata": {},
     "output_type": "execute_result"
    }
   ],
   "source": [
    "import findspark\n",
    "findspark.find()"
   ]
  },
  {
   "cell_type": "code",
   "execution_count": 6,
   "metadata": {},
   "outputs": [
    {
     "name": "stdout",
     "output_type": "stream",
     "text": [
      "2024-03-29-12:52:30 | INFO | SparkUtils.create_spark_session | iniciando a criação de spark session\n",
      "2024-03-29-12:52:30 | INFO | SparkUtils.create_spark_session | Finalizando a criação de spark session\n",
      "2024-03-29-12:52:30 | INFO | SparkUtils.load_dataframe_as_parquet_file | Iniciando leitura de arquivo .parquet -> ../data_bases/input/empresas/parquet\n",
      "2024-03-29-12:52:30 | INFO | SparkUtils.load_dataframe_as_parquet_file | Finalizando a leitura de arquivo .parquet -> ../data_bases/input/empresas/parquet\n",
      "root\n",
      " |-- cnpj_basico: integer (nullable = true)\n",
      " |-- razao_social_nome_empresarial: string (nullable = true)\n",
      " |-- natureza_juridica: integer (nullable = true)\n",
      " |-- qualificacao_do_responsavel: integer (nullable = true)\n",
      " |-- capital_social_da_empresa: double (nullable = true)\n",
      " |-- porte_da_empresa: integer (nullable = true)\n",
      " |-- ente_federativo_responsavel: string (nullable = true)\n",
      "\n",
      "+-----------+----------------------------------------------+-----------------+---------------------------+-------------------------+----------------+---------------------------+\n",
      "|cnpj_basico|razao_social_nome_empresarial                 |natureza_juridica|qualificacao_do_responsavel|capital_social_da_empresa|porte_da_empresa|ente_federativo_responsavel|\n",
      "+-----------+----------------------------------------------+-----------------+---------------------------+-------------------------+----------------+---------------------------+\n",
      "|537        |VERTIZA IMOVEIS - NEGOCIOS IMOBILIARIOS EIRELI|2313             |65                         |80000.0                  |3               |NULL                       |\n",
      "|6454       |NEZIA CONCEICAO DE OLIVEIRA                   |2135             |50                         |0.0                      |1               |NULL                       |\n",
      "|7632       |MARIA JOSE SALDANHA GOUVEA                    |2135             |50                         |0.0                      |1               |NULL                       |\n",
      "|7638       |WILSON EUGENIO BARBOSA                        |2135             |50                         |0.0                      |1               |NULL                       |\n",
      "|7685       |AUREA GOUVEIA VALLOTA                         |2135             |50                         |0.0                      |5               |NULL                       |\n",
      "|8641       |RODOLFO DE CAMPOS BIAJOLI                     |2135             |50                         |0.0                      |5               |NULL                       |\n",
      "|12441      |I.M.CITINO CECEL AVICULTURA                   |2135             |50                         |0.0                      |1               |NULL                       |\n",
      "|16025      |MILTON PARADA JUNIOR LIMEIRA                  |2135             |50                         |0.0                      |5               |NULL                       |\n",
      "|21767      |CINTRA CAMARGO PARTICIPACAO LTDA              |2062             |49                         |0.0                      |1               |NULL                       |\n",
      "|23298      |MARIA JOSE GOMES VILELA MAUA                  |2135             |50                         |0.0                      |1               |NULL                       |\n",
      "|27110      |LUIZ ANTONIO SOUZA O CEARENSE                 |2135             |50                         |0.0                      |1               |NULL                       |\n",
      "|29590      |JOSE FRANCISCO RODRIGUES TRANSPORTES          |2135             |50                         |0.0                      |1               |NULL                       |\n",
      "|55841      |LAMINADOS ANTONINHO LTDA                      |2062             |49                         |0.0                      |5               |NULL                       |\n",
      "|59088      |ALESSANDRO CAMELO VIEIRA & CIA LTDA           |2062             |49                         |0.0                      |1               |NULL                       |\n",
      "|61201      |IMPERIAL GEMAS IRMAOS LTDA                    |2062             |49                         |0.0                      |5               |NULL                       |\n",
      "|63003      |ANTONIO CARLOS DE OLIVEIRA                    |2135             |50                         |0.0                      |1               |NULL                       |\n",
      "|63134      |CARLOS WILIAM TSUHA                           |2135             |50                         |200000.0                 |3               |NULL                       |\n",
      "|63328      |NYX PRODUCOES E EVENTOS LTDA                  |2062             |49                         |0.0                      |1               |NULL                       |\n",
      "|63642      |GATTO'S CONFECCOES DE ROUPAS LTDA             |2062             |49                         |0.0                      |1               |NULL                       |\n",
      "|65207      |RAJA METTA PROJETOS E PARTICIPACOES LTDA      |2240             |49                         |0.0                      |5               |NULL                       |\n",
      "+-----------+----------------------------------------------+-----------------+---------------------------+-------------------------+----------------+---------------------------+\n",
      "only showing top 20 rows\n",
      "\n"
     ]
    }
   ],
   "source": [
    "import sys\n",
    "sys.path.append('../')\n",
    "from dynamic_dataframe import DynamicDataFrame\n",
    "\n",
    "\n",
    "empresas_df = DynamicDataFrame()\n",
    "\n",
    "empresas_df.load_dataframe_as_parquet_file('../data_bases/input/empresas/parquet')\n",
    "\n",
    "empresas_df.show_data()\n"
   ]
  }
 ],
 "metadata": {
  "kernelspec": {
   "display_name": "Python 3 (ipykernel)",
   "language": "python",
   "name": "python3"
  },
  "language_info": {
   "codemirror_mode": {
    "name": "ipython",
    "version": 3
   },
   "file_extension": ".py",
   "mimetype": "text/x-python",
   "name": "python",
   "nbconvert_exporter": "python",
   "pygments_lexer": "ipython3",
   "version": "3.11.5"
  }
 },
 "nbformat": 4,
 "nbformat_minor": 2
}
